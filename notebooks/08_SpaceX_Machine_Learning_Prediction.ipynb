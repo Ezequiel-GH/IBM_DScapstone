{
  "metadata": {
    "language_info": {
      "codemirror_mode": {
        "name": "python",
        "version": 3
      },
      "file_extension": ".py",
      "mimetype": "text/x-python",
      "name": "python",
      "nbconvert_exporter": "python",
      "pygments_lexer": "ipython3",
      "version": "3.8"
    },
    "kernelspec": {
      "name": "python",
      "display_name": "Pyolite",
      "language": "python"
    }
  },
  "nbformat_minor": 5,
  "nbformat": 4,
  "cells": [
    {
      "cell_type": "markdown",
      "source": "<p style=\"text-align:center\">\n    <a href=\"https://skills.network/?utm_medium=Exinfluencer&utm_source=Exinfluencer&utm_content=000026UJ&utm_term=10006555&utm_id=NA-SkillsNetwork-Channel-SkillsNetworkCoursesIBMDS0321ENSkillsNetwork26802033-2022-01-01\" target=\"_blank\">\n    <img src=\"https://cf-courses-data.s3.us.cloud-object-storage.appdomain.cloud/assets/logos/SN_web_lightmode.png\" width=\"200\" alt=\"Skills Network Logo\"  />\n    </a>\n</p>\n",
      "metadata": {},
      "id": "41092b48-3d26-4826-9516-ccaea45f5040"
    },
    {
      "cell_type": "markdown",
      "source": "# **Space X  Falcon 9 First Stage Landing Prediction**\n",
      "metadata": {},
      "id": "a7b195fb-7957-4e70-9739-a26fc8eb95bb"
    },
    {
      "cell_type": "markdown",
      "source": "## Assignment:  Machine Learning Prediction\n",
      "metadata": {},
      "id": "3b088492-0aa6-4e07-a816-0b74dbc58203"
    },
    {
      "cell_type": "markdown",
      "source": "Estimated time needed: **60** minutes\n",
      "metadata": {},
      "id": "19c6c99b-e968-4d6e-a07a-38307d36ed2b"
    },
    {
      "cell_type": "markdown",
      "source": "Space X advertises Falcon 9 rocket launches on its website with a cost of 62 million dollars; other providers cost upward of 165 million dollars each, much of the savings is because Space X can reuse the first stage. Therefore if we can determine if the first stage will land, we can determine the cost of a launch. This information can be used if an alternate company wants to bid against space X for a rocket launch.   In this lab, you will create a machine learning pipeline  to predict if the first stage will land given the data from the preceding labs.\n",
      "metadata": {},
      "id": "a4bec0cd-b2fe-48ff-8a60-44d57af5473c"
    },
    {
      "cell_type": "markdown",
      "source": "![](https://cf-courses-data.s3.us.cloud-object-storage.appdomain.cloud/IBMDeveloperSkillsNetwork-DS0701EN-SkillsNetwork/api/Images/landing_1.gif)\n",
      "metadata": {},
      "id": "9b9e79e6-8497-49ce-b2e1-e914bf87726c"
    },
    {
      "cell_type": "markdown",
      "source": "Several examples of an unsuccessful landing are shown here:\n",
      "metadata": {},
      "id": "0fc39343-e511-4f02-aaaa-930eb60428d7"
    },
    {
      "cell_type": "markdown",
      "source": "![](https://cf-courses-data.s3.us.cloud-object-storage.appdomain.cloud/IBMDeveloperSkillsNetwork-DS0701EN-SkillsNetwork/api/Images/crash.gif)\n",
      "metadata": {},
      "id": "d8f06dd0-f33f-4d53-9a20-580a42011408"
    },
    {
      "cell_type": "markdown",
      "source": "Most unsuccessful landings are planed. Space X; performs a controlled landing in the oceans.\n",
      "metadata": {},
      "id": "ef614108-fd8d-4344-948a-39d131d671df"
    },
    {
      "cell_type": "markdown",
      "source": "## Objectives\n",
      "metadata": {},
      "id": "21c1b9fb-9eed-461b-8c77-5c0950a00e6f"
    },
    {
      "cell_type": "markdown",
      "source": "Perform exploratory  Data Analysis and determine Training Labels\n\n*   create a column for the class\n*   Standardize the data\n*   Split into training data and test data\n\n\\-Find best Hyperparameter for SVM, Classification Trees and Logistic Regression\n\n*   Find the method performs best using test data\n",
      "metadata": {},
      "id": "25fe0855-ff49-4adb-8954-6c46fab06877"
    },
    {
      "cell_type": "markdown",
      "source": "## Import Libraries and Define Auxiliary Functions\n",
      "metadata": {},
      "id": "28d653b1-3b9a-429e-80e0-02bd16de722e"
    },
    {
      "cell_type": "code",
      "source": "import piplite\nawait piplite.install(['numpy'])\nawait piplite.install(['pandas'])\nawait piplite.install(['seaborn'])",
      "metadata": {
        "trusted": true
      },
      "execution_count": 1,
      "outputs": [],
      "id": "4818736e-9044-4cbe-9367-8b21b0246077"
    },
    {
      "cell_type": "markdown",
      "source": "We will import the following libraries for the lab\n",
      "metadata": {},
      "id": "e3bd986c-7b04-48d7-bdbe-1e3067039e5f"
    },
    {
      "cell_type": "code",
      "source": "# Pandas is a software library written for the Python programming language for data manipulation and analysis.\nimport pandas as pd\n# NumPy is a library for the Python programming language, adding support for large, multi-dimensional arrays and matrices, along with a large collection of high-level mathematical functions to operate on these arrays\nimport numpy as np\n# Matplotlib is a plotting library for python and pyplot gives us a MatLab like plotting framework. We will use this in our plotter function to plot data.\nimport matplotlib.pyplot as plt\n#Seaborn is a Python data visualization library based on matplotlib. It provides a high-level interface for drawing attractive and informative statistical graphics\nimport seaborn as sns\n# Preprocessing allows us to standarsize our data\nfrom sklearn import preprocessing\n# Allows us to split our data into training and testing data\nfrom sklearn.model_selection import train_test_split\n# Allows us to test parameters of classification algorithms and find the best one\nfrom sklearn.model_selection import GridSearchCV\n# Logistic Regression classification algorithm\nfrom sklearn.linear_model import LogisticRegression\n# Support Vector Machine classification algorithm\nfrom sklearn.svm import SVC\n# Decision Tree classification algorithm\nfrom sklearn.tree import DecisionTreeClassifier\n# K Nearest Neighbors classification algorithm\nfrom sklearn.neighbors import KNeighborsClassifier\nfrom sklearn.metrics import classification_report",
      "metadata": {
        "trusted": true
      },
      "execution_count": 2,
      "outputs": [],
      "id": "8513bd32-b465-4ded-8bd1-75315990d233"
    },
    {
      "cell_type": "markdown",
      "source": "This function is to plot the confusion matrix.\n",
      "metadata": {},
      "id": "2a2bf13b-19b1-43d6-a2cd-d2f20bd69fb5"
    },
    {
      "cell_type": "code",
      "source": "def plot_confusion_matrix(y,y_predict):\n    \"this function plots the confusion matrix\"\n    from sklearn.metrics import confusion_matrix\n\n    cm = confusion_matrix(y, y_predict)\n    ax= plt.subplot()\n    sns.heatmap(cm, annot=True, ax = ax); #annot=True to annotate cells\n    ax.set_xlabel('Predicted labels')\n    ax.set_ylabel('True labels')\n    ax.set_title('Confusion Matrix'); \n    ax.xaxis.set_ticklabels(['did not land', 'land']); ax.yaxis.set_ticklabels(['did not land', 'landed']) \n    plt.show() ",
      "metadata": {
        "trusted": true
      },
      "execution_count": 3,
      "outputs": [],
      "id": "1f30279e-9d5e-4df5-a814-8053d099c511"
    },
    {
      "cell_type": "markdown",
      "source": "## Load the dataframe\n",
      "metadata": {},
      "id": "c0abf51b-e8f8-4fa5-8275-1205554ba883"
    },
    {
      "cell_type": "markdown",
      "source": "Load the data\n",
      "metadata": {},
      "id": "e6b453e1-b094-4508-a4e1-5159ee52d46e"
    },
    {
      "cell_type": "code",
      "source": "from js import fetch\nimport io\n\nURL1 = \"https://cf-courses-data.s3.us.cloud-object-storage.appdomain.cloud/IBM-DS0321EN-SkillsNetwork/datasets/dataset_part_2.csv\"\nresp1 = await fetch(URL1)\ntext1 = io.BytesIO((await resp1.arrayBuffer()).to_py())\ndata = pd.read_csv(text1)",
      "metadata": {
        "trusted": true
      },
      "execution_count": 4,
      "outputs": [],
      "id": "303c7783-faac-4ca0-98a5-df6c89c65df4"
    },
    {
      "cell_type": "code",
      "source": "data.head()",
      "metadata": {
        "trusted": true
      },
      "execution_count": 5,
      "outputs": [
        {
          "execution_count": 5,
          "output_type": "execute_result",
          "data": {
            "text/plain": "   FlightNumber        Date BoosterVersion  PayloadMass Orbit    LaunchSite  \\\n0             1  2010-06-04       Falcon 9  6104.959412   LEO  CCAFS SLC 40   \n1             2  2012-05-22       Falcon 9   525.000000   LEO  CCAFS SLC 40   \n2             3  2013-03-01       Falcon 9   677.000000   ISS  CCAFS SLC 40   \n3             4  2013-09-29       Falcon 9   500.000000    PO   VAFB SLC 4E   \n4             5  2013-12-03       Falcon 9  3170.000000   GTO  CCAFS SLC 40   \n\n       Outcome  Flights  GridFins  Reused   Legs LandingPad  Block  \\\n0    None None        1     False   False  False        NaN    1.0   \n1    None None        1     False   False  False        NaN    1.0   \n2    None None        1     False   False  False        NaN    1.0   \n3  False Ocean        1     False   False  False        NaN    1.0   \n4    None None        1     False   False  False        NaN    1.0   \n\n   ReusedCount Serial   Longitude   Latitude  Class  \n0            0  B0003  -80.577366  28.561857      0  \n1            0  B0005  -80.577366  28.561857      0  \n2            0  B0007  -80.577366  28.561857      0  \n3            0  B1003 -120.610829  34.632093      0  \n4            0  B1004  -80.577366  28.561857      0  ",
            "text/html": "<div>\n<style scoped>\n    .dataframe tbody tr th:only-of-type {\n        vertical-align: middle;\n    }\n\n    .dataframe tbody tr th {\n        vertical-align: top;\n    }\n\n    .dataframe thead th {\n        text-align: right;\n    }\n</style>\n<table border=\"1\" class=\"dataframe\">\n  <thead>\n    <tr style=\"text-align: right;\">\n      <th></th>\n      <th>FlightNumber</th>\n      <th>Date</th>\n      <th>BoosterVersion</th>\n      <th>PayloadMass</th>\n      <th>Orbit</th>\n      <th>LaunchSite</th>\n      <th>Outcome</th>\n      <th>Flights</th>\n      <th>GridFins</th>\n      <th>Reused</th>\n      <th>Legs</th>\n      <th>LandingPad</th>\n      <th>Block</th>\n      <th>ReusedCount</th>\n      <th>Serial</th>\n      <th>Longitude</th>\n      <th>Latitude</th>\n      <th>Class</th>\n    </tr>\n  </thead>\n  <tbody>\n    <tr>\n      <th>0</th>\n      <td>1</td>\n      <td>2010-06-04</td>\n      <td>Falcon 9</td>\n      <td>6104.959412</td>\n      <td>LEO</td>\n      <td>CCAFS SLC 40</td>\n      <td>None None</td>\n      <td>1</td>\n      <td>False</td>\n      <td>False</td>\n      <td>False</td>\n      <td>NaN</td>\n      <td>1.0</td>\n      <td>0</td>\n      <td>B0003</td>\n      <td>-80.577366</td>\n      <td>28.561857</td>\n      <td>0</td>\n    </tr>\n    <tr>\n      <th>1</th>\n      <td>2</td>\n      <td>2012-05-22</td>\n      <td>Falcon 9</td>\n      <td>525.000000</td>\n      <td>LEO</td>\n      <td>CCAFS SLC 40</td>\n      <td>None None</td>\n      <td>1</td>\n      <td>False</td>\n      <td>False</td>\n      <td>False</td>\n      <td>NaN</td>\n      <td>1.0</td>\n      <td>0</td>\n      <td>B0005</td>\n      <td>-80.577366</td>\n      <td>28.561857</td>\n      <td>0</td>\n    </tr>\n    <tr>\n      <th>2</th>\n      <td>3</td>\n      <td>2013-03-01</td>\n      <td>Falcon 9</td>\n      <td>677.000000</td>\n      <td>ISS</td>\n      <td>CCAFS SLC 40</td>\n      <td>None None</td>\n      <td>1</td>\n      <td>False</td>\n      <td>False</td>\n      <td>False</td>\n      <td>NaN</td>\n      <td>1.0</td>\n      <td>0</td>\n      <td>B0007</td>\n      <td>-80.577366</td>\n      <td>28.561857</td>\n      <td>0</td>\n    </tr>\n    <tr>\n      <th>3</th>\n      <td>4</td>\n      <td>2013-09-29</td>\n      <td>Falcon 9</td>\n      <td>500.000000</td>\n      <td>PO</td>\n      <td>VAFB SLC 4E</td>\n      <td>False Ocean</td>\n      <td>1</td>\n      <td>False</td>\n      <td>False</td>\n      <td>False</td>\n      <td>NaN</td>\n      <td>1.0</td>\n      <td>0</td>\n      <td>B1003</td>\n      <td>-120.610829</td>\n      <td>34.632093</td>\n      <td>0</td>\n    </tr>\n    <tr>\n      <th>4</th>\n      <td>5</td>\n      <td>2013-12-03</td>\n      <td>Falcon 9</td>\n      <td>3170.000000</td>\n      <td>GTO</td>\n      <td>CCAFS SLC 40</td>\n      <td>None None</td>\n      <td>1</td>\n      <td>False</td>\n      <td>False</td>\n      <td>False</td>\n      <td>NaN</td>\n      <td>1.0</td>\n      <td>0</td>\n      <td>B1004</td>\n      <td>-80.577366</td>\n      <td>28.561857</td>\n      <td>0</td>\n    </tr>\n  </tbody>\n</table>\n</div>"
          },
          "metadata": {}
        }
      ],
      "id": "2bbe74d1-22a0-4164-a154-7b61fd30db7f"
    },
    {
      "cell_type": "code",
      "source": "URL2 = 'https://cf-courses-data.s3.us.cloud-object-storage.appdomain.cloud/IBM-DS0321EN-SkillsNetwork/datasets/dataset_part_3.csv'\nresp2 = await fetch(URL2)\ntext2 = io.BytesIO((await resp2.arrayBuffer()).to_py())\nX = pd.read_csv(text2)",
      "metadata": {
        "trusted": true
      },
      "execution_count": 6,
      "outputs": [],
      "id": "0ca7bbd2-ed4e-4eef-8f27-be9309caed78"
    },
    {
      "cell_type": "code",
      "source": "X.head(100)",
      "metadata": {
        "trusted": true
      },
      "execution_count": 7,
      "outputs": [
        {
          "execution_count": 7,
          "output_type": "execute_result",
          "data": {
            "text/plain": "    FlightNumber   PayloadMass  Flights  Block  ReusedCount  Orbit_ES-L1  \\\n0            1.0   6104.959412      1.0    1.0          0.0          0.0   \n1            2.0    525.000000      1.0    1.0          0.0          0.0   \n2            3.0    677.000000      1.0    1.0          0.0          0.0   \n3            4.0    500.000000      1.0    1.0          0.0          0.0   \n4            5.0   3170.000000      1.0    1.0          0.0          0.0   \n..           ...           ...      ...    ...          ...          ...   \n85          86.0  15400.000000      2.0    5.0          2.0          0.0   \n86          87.0  15400.000000      3.0    5.0          2.0          0.0   \n87          88.0  15400.000000      6.0    5.0          5.0          0.0   \n88          89.0  15400.000000      3.0    5.0          2.0          0.0   \n89          90.0   3681.000000      1.0    5.0          0.0          0.0   \n\n    Orbit_GEO  Orbit_GTO  Orbit_HEO  Orbit_ISS  ...  Serial_B1058  \\\n0         0.0        0.0        0.0        0.0  ...           0.0   \n1         0.0        0.0        0.0        0.0  ...           0.0   \n2         0.0        0.0        0.0        1.0  ...           0.0   \n3         0.0        0.0        0.0        0.0  ...           0.0   \n4         0.0        1.0        0.0        0.0  ...           0.0   \n..        ...        ...        ...        ...  ...           ...   \n85        0.0        0.0        0.0        0.0  ...           0.0   \n86        0.0        0.0        0.0        0.0  ...           1.0   \n87        0.0        0.0        0.0        0.0  ...           0.0   \n88        0.0        0.0        0.0        0.0  ...           0.0   \n89        0.0        0.0        0.0        0.0  ...           0.0   \n\n    Serial_B1059  Serial_B1060  Serial_B1062  GridFins_False  GridFins_True  \\\n0            0.0           0.0           0.0             1.0            0.0   \n1            0.0           0.0           0.0             1.0            0.0   \n2            0.0           0.0           0.0             1.0            0.0   \n3            0.0           0.0           0.0             1.0            0.0   \n4            0.0           0.0           0.0             1.0            0.0   \n..           ...           ...           ...             ...            ...   \n85           0.0           1.0           0.0             0.0            1.0   \n86           0.0           0.0           0.0             0.0            1.0   \n87           0.0           0.0           0.0             0.0            1.0   \n88           0.0           1.0           0.0             0.0            1.0   \n89           0.0           0.0           1.0             0.0            1.0   \n\n    Reused_False  Reused_True  Legs_False  Legs_True  \n0            1.0          0.0         1.0        0.0  \n1            1.0          0.0         1.0        0.0  \n2            1.0          0.0         1.0        0.0  \n3            1.0          0.0         1.0        0.0  \n4            1.0          0.0         1.0        0.0  \n..           ...          ...         ...        ...  \n85           0.0          1.0         0.0        1.0  \n86           0.0          1.0         0.0        1.0  \n87           0.0          1.0         0.0        1.0  \n88           0.0          1.0         0.0        1.0  \n89           1.0          0.0         0.0        1.0  \n\n[90 rows x 83 columns]",
            "text/html": "<div>\n<style scoped>\n    .dataframe tbody tr th:only-of-type {\n        vertical-align: middle;\n    }\n\n    .dataframe tbody tr th {\n        vertical-align: top;\n    }\n\n    .dataframe thead th {\n        text-align: right;\n    }\n</style>\n<table border=\"1\" class=\"dataframe\">\n  <thead>\n    <tr style=\"text-align: right;\">\n      <th></th>\n      <th>FlightNumber</th>\n      <th>PayloadMass</th>\n      <th>Flights</th>\n      <th>Block</th>\n      <th>ReusedCount</th>\n      <th>Orbit_ES-L1</th>\n      <th>Orbit_GEO</th>\n      <th>Orbit_GTO</th>\n      <th>Orbit_HEO</th>\n      <th>Orbit_ISS</th>\n      <th>...</th>\n      <th>Serial_B1058</th>\n      <th>Serial_B1059</th>\n      <th>Serial_B1060</th>\n      <th>Serial_B1062</th>\n      <th>GridFins_False</th>\n      <th>GridFins_True</th>\n      <th>Reused_False</th>\n      <th>Reused_True</th>\n      <th>Legs_False</th>\n      <th>Legs_True</th>\n    </tr>\n  </thead>\n  <tbody>\n    <tr>\n      <th>0</th>\n      <td>1.0</td>\n      <td>6104.959412</td>\n      <td>1.0</td>\n      <td>1.0</td>\n      <td>0.0</td>\n      <td>0.0</td>\n      <td>0.0</td>\n      <td>0.0</td>\n      <td>0.0</td>\n      <td>0.0</td>\n      <td>...</td>\n      <td>0.0</td>\n      <td>0.0</td>\n      <td>0.0</td>\n      <td>0.0</td>\n      <td>1.0</td>\n      <td>0.0</td>\n      <td>1.0</td>\n      <td>0.0</td>\n      <td>1.0</td>\n      <td>0.0</td>\n    </tr>\n    <tr>\n      <th>1</th>\n      <td>2.0</td>\n      <td>525.000000</td>\n      <td>1.0</td>\n      <td>1.0</td>\n      <td>0.0</td>\n      <td>0.0</td>\n      <td>0.0</td>\n      <td>0.0</td>\n      <td>0.0</td>\n      <td>0.0</td>\n      <td>...</td>\n      <td>0.0</td>\n      <td>0.0</td>\n      <td>0.0</td>\n      <td>0.0</td>\n      <td>1.0</td>\n      <td>0.0</td>\n      <td>1.0</td>\n      <td>0.0</td>\n      <td>1.0</td>\n      <td>0.0</td>\n    </tr>\n    <tr>\n      <th>2</th>\n      <td>3.0</td>\n      <td>677.000000</td>\n      <td>1.0</td>\n      <td>1.0</td>\n      <td>0.0</td>\n      <td>0.0</td>\n      <td>0.0</td>\n      <td>0.0</td>\n      <td>0.0</td>\n      <td>1.0</td>\n      <td>...</td>\n      <td>0.0</td>\n      <td>0.0</td>\n      <td>0.0</td>\n      <td>0.0</td>\n      <td>1.0</td>\n      <td>0.0</td>\n      <td>1.0</td>\n      <td>0.0</td>\n      <td>1.0</td>\n      <td>0.0</td>\n    </tr>\n    <tr>\n      <th>3</th>\n      <td>4.0</td>\n      <td>500.000000</td>\n      <td>1.0</td>\n      <td>1.0</td>\n      <td>0.0</td>\n      <td>0.0</td>\n      <td>0.0</td>\n      <td>0.0</td>\n      <td>0.0</td>\n      <td>0.0</td>\n      <td>...</td>\n      <td>0.0</td>\n      <td>0.0</td>\n      <td>0.0</td>\n      <td>0.0</td>\n      <td>1.0</td>\n      <td>0.0</td>\n      <td>1.0</td>\n      <td>0.0</td>\n      <td>1.0</td>\n      <td>0.0</td>\n    </tr>\n    <tr>\n      <th>4</th>\n      <td>5.0</td>\n      <td>3170.000000</td>\n      <td>1.0</td>\n      <td>1.0</td>\n      <td>0.0</td>\n      <td>0.0</td>\n      <td>0.0</td>\n      <td>1.0</td>\n      <td>0.0</td>\n      <td>0.0</td>\n      <td>...</td>\n      <td>0.0</td>\n      <td>0.0</td>\n      <td>0.0</td>\n      <td>0.0</td>\n      <td>1.0</td>\n      <td>0.0</td>\n      <td>1.0</td>\n      <td>0.0</td>\n      <td>1.0</td>\n      <td>0.0</td>\n    </tr>\n    <tr>\n      <th>...</th>\n      <td>...</td>\n      <td>...</td>\n      <td>...</td>\n      <td>...</td>\n      <td>...</td>\n      <td>...</td>\n      <td>...</td>\n      <td>...</td>\n      <td>...</td>\n      <td>...</td>\n      <td>...</td>\n      <td>...</td>\n      <td>...</td>\n      <td>...</td>\n      <td>...</td>\n      <td>...</td>\n      <td>...</td>\n      <td>...</td>\n      <td>...</td>\n      <td>...</td>\n      <td>...</td>\n    </tr>\n    <tr>\n      <th>85</th>\n      <td>86.0</td>\n      <td>15400.000000</td>\n      <td>2.0</td>\n      <td>5.0</td>\n      <td>2.0</td>\n      <td>0.0</td>\n      <td>0.0</td>\n      <td>0.0</td>\n      <td>0.0</td>\n      <td>0.0</td>\n      <td>...</td>\n      <td>0.0</td>\n      <td>0.0</td>\n      <td>1.0</td>\n      <td>0.0</td>\n      <td>0.0</td>\n      <td>1.0</td>\n      <td>0.0</td>\n      <td>1.0</td>\n      <td>0.0</td>\n      <td>1.0</td>\n    </tr>\n    <tr>\n      <th>86</th>\n      <td>87.0</td>\n      <td>15400.000000</td>\n      <td>3.0</td>\n      <td>5.0</td>\n      <td>2.0</td>\n      <td>0.0</td>\n      <td>0.0</td>\n      <td>0.0</td>\n      <td>0.0</td>\n      <td>0.0</td>\n      <td>...</td>\n      <td>1.0</td>\n      <td>0.0</td>\n      <td>0.0</td>\n      <td>0.0</td>\n      <td>0.0</td>\n      <td>1.0</td>\n      <td>0.0</td>\n      <td>1.0</td>\n      <td>0.0</td>\n      <td>1.0</td>\n    </tr>\n    <tr>\n      <th>87</th>\n      <td>88.0</td>\n      <td>15400.000000</td>\n      <td>6.0</td>\n      <td>5.0</td>\n      <td>5.0</td>\n      <td>0.0</td>\n      <td>0.0</td>\n      <td>0.0</td>\n      <td>0.0</td>\n      <td>0.0</td>\n      <td>...</td>\n      <td>0.0</td>\n      <td>0.0</td>\n      <td>0.0</td>\n      <td>0.0</td>\n      <td>0.0</td>\n      <td>1.0</td>\n      <td>0.0</td>\n      <td>1.0</td>\n      <td>0.0</td>\n      <td>1.0</td>\n    </tr>\n    <tr>\n      <th>88</th>\n      <td>89.0</td>\n      <td>15400.000000</td>\n      <td>3.0</td>\n      <td>5.0</td>\n      <td>2.0</td>\n      <td>0.0</td>\n      <td>0.0</td>\n      <td>0.0</td>\n      <td>0.0</td>\n      <td>0.0</td>\n      <td>...</td>\n      <td>0.0</td>\n      <td>0.0</td>\n      <td>1.0</td>\n      <td>0.0</td>\n      <td>0.0</td>\n      <td>1.0</td>\n      <td>0.0</td>\n      <td>1.0</td>\n      <td>0.0</td>\n      <td>1.0</td>\n    </tr>\n    <tr>\n      <th>89</th>\n      <td>90.0</td>\n      <td>3681.000000</td>\n      <td>1.0</td>\n      <td>5.0</td>\n      <td>0.0</td>\n      <td>0.0</td>\n      <td>0.0</td>\n      <td>0.0</td>\n      <td>0.0</td>\n      <td>0.0</td>\n      <td>...</td>\n      <td>0.0</td>\n      <td>0.0</td>\n      <td>0.0</td>\n      <td>1.0</td>\n      <td>0.0</td>\n      <td>1.0</td>\n      <td>1.0</td>\n      <td>0.0</td>\n      <td>0.0</td>\n      <td>1.0</td>\n    </tr>\n  </tbody>\n</table>\n<p>90 rows × 83 columns</p>\n</div>"
          },
          "metadata": {}
        }
      ],
      "id": "02af7a31-bf3d-431a-ae95-fd146cd09329"
    },
    {
      "cell_type": "markdown",
      "source": "## TASK  1\n",
      "metadata": {},
      "id": "5fc5aab8-54d4-49d9-aff6-0dd579baa44f"
    },
    {
      "cell_type": "markdown",
      "source": "Create a NumPy array from the column <code>Class</code> in <code>data</code>, by applying the method <code>to_numpy()</code>  then\nassign it  to the variable <code>Y</code>,make sure the output is a  Pandas series (only one bracket df\\['name of  column']).\n",
      "metadata": {},
      "id": "013d35ed-ebae-4e84-8c60-935e3a699346"
    },
    {
      "cell_type": "code",
      "source": "y = data['Class'].values\ny",
      "metadata": {
        "trusted": true
      },
      "execution_count": 8,
      "outputs": [
        {
          "execution_count": 8,
          "output_type": "execute_result",
          "data": {
            "text/plain": "array([0, 0, 0, 0, 0, 0, 1, 1, 0, 0, 0, 0, 1, 0, 0, 0, 1, 0, 0, 1, 1, 1,\n       1, 1, 0, 1, 1, 0, 1, 1, 0, 1, 1, 1, 0, 1, 1, 1, 1, 1, 1, 1, 1, 1,\n       1, 0, 0, 0, 1, 1, 0, 0, 1, 1, 1, 1, 1, 1, 1, 0, 0, 1, 1, 1, 1, 1,\n       1, 0, 1, 1, 1, 1, 0, 1, 0, 1, 0, 1, 1, 1, 1, 1, 1, 1, 1, 1, 1, 1,\n       1, 1], dtype=int64)"
          },
          "metadata": {}
        }
      ],
      "id": "bc72dffc-1032-4a3a-b84f-d2968b3faffc"
    },
    {
      "cell_type": "markdown",
      "source": "## TASK  2\n",
      "metadata": {},
      "id": "4d79f1ca-2636-4221-895a-4afc091c73b0"
    },
    {
      "cell_type": "markdown",
      "source": "Standardize the data in <code>X</code> then reassign it to the variable  <code>X</code> using the transform provided below.\n",
      "metadata": {},
      "id": "324ed6d1-626f-4c23-bf84-efd98f797280"
    },
    {
      "cell_type": "code",
      "source": "# students get this \ntransform = preprocessing.StandardScaler()\nX = transform.fit_transform(X)\nX",
      "metadata": {
        "trusted": true
      },
      "execution_count": 9,
      "outputs": [
        {
          "execution_count": 9,
          "output_type": "execute_result",
          "data": {
            "text/plain": "array([[-1.71291154e+00, -1.94814463e-16, -6.53912840e-01, ...,\n        -8.35531692e-01,  1.93309133e+00, -1.93309133e+00],\n       [-1.67441914e+00, -1.19523159e+00, -6.53912840e-01, ...,\n        -8.35531692e-01,  1.93309133e+00, -1.93309133e+00],\n       [-1.63592675e+00, -1.16267307e+00, -6.53912840e-01, ...,\n        -8.35531692e-01,  1.93309133e+00, -1.93309133e+00],\n       ...,\n       [ 1.63592675e+00,  1.99100483e+00,  3.49060516e+00, ...,\n         1.19684269e+00, -5.17306132e-01,  5.17306132e-01],\n       [ 1.67441914e+00,  1.99100483e+00,  1.00389436e+00, ...,\n         1.19684269e+00, -5.17306132e-01,  5.17306132e-01],\n       [ 1.71291154e+00, -5.19213966e-01, -6.53912840e-01, ...,\n        -8.35531692e-01, -5.17306132e-01,  5.17306132e-01]])"
          },
          "metadata": {}
        }
      ],
      "id": "9067e374-f502-44c6-a628-29186009fd45"
    },
    {
      "cell_type": "markdown",
      "source": "We split the data into training and testing data using the  function  <code>train_test_split</code>.   The training data is divided into validation data, a second set used for training  data; then the models are trained and hyperparameters are selected using the function <code>GridSearchCV</code>.\n",
      "metadata": {},
      "id": "a6f007c0-65fe-408a-9af6-febef40b1e1b"
    },
    {
      "cell_type": "markdown",
      "source": "## TASK  3\n",
      "metadata": {},
      "id": "c4a2cfde-e37a-475f-95ad-95246535ff18"
    },
    {
      "cell_type": "markdown",
      "source": "Use the function train_test_split to split the data X and Y into training and test data. Set the parameter test_size to  0.2 and random_state to 2. The training data and test data should be assigned to the following labels.\n",
      "metadata": {},
      "id": "3b2ff7f9-f969-4ba2-a2bd-17f0b7d6464e"
    },
    {
      "cell_type": "markdown",
      "source": "<code>X_train, X_test, Y_train, Y_test</code>\n",
      "metadata": {},
      "id": "5da81a62-3998-436c-b96e-9e7a1db0825f"
    },
    {
      "cell_type": "code",
      "source": "X_train, X_test, y_train, y_test = train_test_split(X, y, test_size=0.2, random_state=2)\nprint(X_train.shape, X_test.shape)",
      "metadata": {
        "trusted": true
      },
      "execution_count": 10,
      "outputs": [
        {
          "name": "stdout",
          "text": "(72, 83) (18, 83)\n",
          "output_type": "stream"
        }
      ],
      "id": "bef9d582-2c05-4a6f-ac6a-125766d093c7"
    },
    {
      "cell_type": "markdown",
      "source": "we can see we only have 18 test samples.\n",
      "metadata": {},
      "id": "e81b772b-0a2e-4f30-a774-8bff2b8fe8b0"
    },
    {
      "cell_type": "code",
      "source": "y_test.shape",
      "metadata": {
        "trusted": true
      },
      "execution_count": 11,
      "outputs": [
        {
          "execution_count": 11,
          "output_type": "execute_result",
          "data": {
            "text/plain": "(18,)"
          },
          "metadata": {}
        }
      ],
      "id": "77d6496a-d933-420f-9352-1c95a832b84d"
    },
    {
      "cell_type": "markdown",
      "source": "## TASK  4\n",
      "metadata": {},
      "id": "1e778d63-eec7-4bf8-a83e-3397997026fa"
    },
    {
      "cell_type": "markdown",
      "source": "Create a logistic regression object  then create a  GridSearchCV object  <code>logreg_cv</code> with cv = 10.  Fit the object to find the best parameters from the dictionary <code>parameters</code>.\n",
      "metadata": {},
      "id": "06a7589e-a488-431b-b329-c78ea814f020"
    },
    {
      "cell_type": "code",
      "source": "parameters ={'C':[0.01,0.1,1],\n             'penalty':['l2'],\n             'solver':['lbfgs']}",
      "metadata": {
        "trusted": true
      },
      "execution_count": 12,
      "outputs": [],
      "id": "93fd1432-7426-4005-8dfe-04380700d42d"
    },
    {
      "cell_type": "code",
      "source": "parameters ={\"C\":[0.01,0.1,1],'penalty':['l2'], 'solver':['lbfgs']}# l1 lasso l2 ridge\nlr=LogisticRegression()\nlogreg_cv = GridSearchCV(estimator=lr, cv=10, param_grid=parameters, verbose=True)\nlogreg_cv.fit(X_train, y_train)\n",
      "metadata": {
        "trusted": true
      },
      "execution_count": 13,
      "outputs": [
        {
          "name": "stdout",
          "text": "Fitting 10 folds for each of 3 candidates, totalling 30 fits\n",
          "output_type": "stream"
        },
        {
          "execution_count": 13,
          "output_type": "execute_result",
          "data": {
            "text/plain": "GridSearchCV(cv=10, estimator=LogisticRegression(),\n             param_grid={'C': [0.01, 0.1, 1], 'penalty': ['l2'],\n                         'solver': ['lbfgs']},\n             verbose=True)"
          },
          "metadata": {}
        }
      ],
      "id": "de49af42-d4af-4f3b-bbbb-3b7cc6793c21"
    },
    {
      "cell_type": "markdown",
      "source": "We output the <code>GridSearchCV</code> object for logistic regression. We display the best parameters using the data attribute <code>best_params\\_</code> and the accuracy on the validation data using the data attribute <code>best_score\\_</code>.\n",
      "metadata": {},
      "id": "a75d5bed-04e0-447a-a14a-eb0229e8da9e"
    },
    {
      "cell_type": "code",
      "source": "print(\"tuned hpyerparameters :(best parameters) \",logreg_cv.best_params_)\nprint(\"accuracy :\",logreg_cv.best_score_)",
      "metadata": {
        "trusted": true
      },
      "execution_count": 14,
      "outputs": [
        {
          "name": "stdout",
          "text": "tuned hpyerparameters :(best parameters)  {'C': 0.01, 'penalty': 'l2', 'solver': 'lbfgs'}\naccuracy : 0.8464285714285713\n",
          "output_type": "stream"
        }
      ],
      "id": "8dfcfcaf-4c12-44f5-b7e4-3d00e56313dc"
    },
    {
      "cell_type": "markdown",
      "source": "## TASK  5\n",
      "metadata": {},
      "id": "5df3f620-3e95-406d-b01d-667801f1d09d"
    },
    {
      "cell_type": "markdown",
      "source": "Calculate the accuracy on the test data using the method <code>score</code>:\n",
      "metadata": {},
      "id": "8890f2b5-9f2a-478b-8772-078b2e55483d"
    },
    {
      "cell_type": "code",
      "source": "y_hat = logreg_cv.predict(X_test)\nprint(classification_report(y_pred=y_hat, y_true=y_test))",
      "metadata": {
        "trusted": true
      },
      "execution_count": 15,
      "outputs": [
        {
          "name": "stdout",
          "text": "              precision    recall  f1-score   support\n\n           0       1.00      0.50      0.67         6\n           1       0.80      1.00      0.89        12\n\n    accuracy                           0.83        18\n   macro avg       0.90      0.75      0.78        18\nweighted avg       0.87      0.83      0.81        18\n\n",
          "output_type": "stream"
        }
      ],
      "id": "4885379c-2c2f-4092-a3f6-a65c0a6b64dd"
    },
    {
      "cell_type": "code",
      "source": "accuracy_dict = {}",
      "metadata": {
        "trusted": true
      },
      "execution_count": 16,
      "outputs": [],
      "id": "6247262c-f7a0-41f2-b673-14ccb9aa7d63"
    },
    {
      "cell_type": "code",
      "source": "accu_log = logreg_cv.score(X_test, y_test)\naccuracy_dict['logistic'] = accu_log\naccuracy_dict",
      "metadata": {
        "trusted": true
      },
      "execution_count": 17,
      "outputs": [
        {
          "execution_count": 17,
          "output_type": "execute_result",
          "data": {
            "text/plain": "{'logistic': 0.8333333333333334}"
          },
          "metadata": {}
        }
      ],
      "id": "ecd83d0e-92bc-4c73-b6e7-a355725cc4ac"
    },
    {
      "cell_type": "markdown",
      "source": "Lets look at the confusion matrix:\n",
      "metadata": {},
      "id": "ef7d820b-6494-448b-99da-ddee09fac04b"
    },
    {
      "cell_type": "code",
      "source": "yhat=logreg_cv.predict(X_test)\nplot_confusion_matrix(y_test,yhat)",
      "metadata": {
        "trusted": true
      },
      "execution_count": 18,
      "outputs": [
        {
          "output_type": "display_data",
          "data": {
            "text/plain": "<pyolite.display.Image at 0x5998a30>",
            "image/png": "[encoded data removed]"
          },
          "metadata": {}
        }
      ],
      "id": "d12d8520-4f14-4cbf-af23-23893d3d8854"
    },
    {
      "cell_type": "markdown",
      "source": "Examining the confusion matrix, we see that logistic regression can distinguish between the different classes.  We see that the major problem is false positives.\n",
      "metadata": {},
      "id": "6c4f7b4d-7cfb-4ff3-bf60-7b71da3a88c0"
    },
    {
      "cell_type": "markdown",
      "source": "## TASK  6\n",
      "metadata": {},
      "id": "93e8f80b-f9e9-43cc-8703-446e4032ce1a"
    },
    {
      "cell_type": "markdown",
      "source": "Create a support vector machine object then  create a  <code>GridSearchCV</code> object  <code>svm_cv</code> with cv - 10.  Fit the object to find the best parameters from the dictionary <code>parameters</code>.\n",
      "metadata": {},
      "id": "c6f9fa64-44d6-4472-8d1b-e859ad3308a4"
    },
    {
      "cell_type": "code",
      "source": "parameters = {'kernel':('linear', 'rbf','poly','rbf', 'sigmoid'),\n              'C': np.logspace(-3, 3, 5),\n              'gamma':np.logspace(-3, 3, 5)}\nsvm = SVC()",
      "metadata": {
        "trusted": true
      },
      "execution_count": 19,
      "outputs": [],
      "id": "642cfb6b-2c24-4d0d-96ad-e01809716b19"
    },
    {
      "cell_type": "code",
      "source": "svm_cv = GridSearchCV(estimator=svm, param_grid=parameters, cv=10, verbose=True)\nsvm_cv.fit(X_train, y_train)",
      "metadata": {
        "trusted": true
      },
      "execution_count": 20,
      "outputs": [
        {
          "name": "stdout",
          "text": "Fitting 10 folds for each of 125 candidates, totalling 1250 fits\n",
          "output_type": "stream"
        },
        {
          "execution_count": 20,
          "output_type": "execute_result",
          "data": {
            "text/plain": "GridSearchCV(cv=10, estimator=SVC(),\n             param_grid={'C': array([1.00000000e-03, 3.16227766e-02, 1.00000000e+00, 3.16227766e+01,\n       1.00000000e+03]),\n                         'gamma': array([1.00000000e-03, 3.16227766e-02, 1.00000000e+00, 3.16227766e+01,\n       1.00000000e+03]),\n                         'kernel': ('linear', 'rbf', 'poly', 'rbf', 'sigmoid')},\n             verbose=True)"
          },
          "metadata": {}
        }
      ],
      "id": "4ac8b9eb-801e-4596-bce7-fa7a980dd5ba"
    },
    {
      "cell_type": "code",
      "source": "print(\"tuned hpyerparameters :(best parameters) \",svm_cv.best_params_)\nprint(\"accuracy :\",svm_cv.best_score_)",
      "metadata": {
        "trusted": true
      },
      "execution_count": 21,
      "outputs": [
        {
          "name": "stdout",
          "text": "tuned hpyerparameters :(best parameters)  {'C': 1.0, 'gamma': 0.03162277660168379, 'kernel': 'sigmoid'}\naccuracy : 0.8482142857142856\n",
          "output_type": "stream"
        }
      ],
      "id": "a017bdfd-1c68-4eec-9b88-6900d8971ced"
    },
    {
      "cell_type": "markdown",
      "source": "## TASK  7\n",
      "metadata": {},
      "id": "41b16eb3-b7ec-401d-a44a-1d2ab4638af0"
    },
    {
      "cell_type": "markdown",
      "source": "Calculate the accuracy on the test data using the method <code>score</code>:\n",
      "metadata": {},
      "id": "97ce1130-daf0-4059-abcf-bdfcc15b5f0b"
    },
    {
      "cell_type": "code",
      "source": "accu_svm = svm_cv.score(X_test, y_test)\naccuracy_dict['svm'] = accu_svm\naccuracy_dict",
      "metadata": {
        "trusted": true
      },
      "execution_count": 22,
      "outputs": [
        {
          "execution_count": 22,
          "output_type": "execute_result",
          "data": {
            "text/plain": "{'logistic': 0.8333333333333334, 'svm': 0.8333333333333334}"
          },
          "metadata": {}
        }
      ],
      "id": "7aedad55-850c-4383-b8d1-c2dc61895fe8"
    },
    {
      "cell_type": "markdown",
      "source": "We can plot the confusion matrix\n",
      "metadata": {},
      "id": "7d52749c-ace1-4457-b304-f0e459a2d057"
    },
    {
      "cell_type": "code",
      "source": "yhat=svm_cv.predict(X_test)\nplot_confusion_matrix(y_test,yhat)",
      "metadata": {
        "trusted": true
      },
      "execution_count": 23,
      "outputs": [
        {
          "output_type": "display_data",
          "data": {
            "text/plain": "<pyolite.display.Image at 0x5d6e588>",
            "image/png": "[encoded data removed]"
          },
          "metadata": {}
        }
      ],
      "id": "2f45fbab-8fcb-4973-9aef-d1980e5283c8"
    },
    {
      "cell_type": "markdown",
      "source": "## TASK  8\n",
      "metadata": {},
      "id": "76e0b51a-3ccd-49d4-a214-6ef189aedc2f"
    },
    {
      "cell_type": "markdown",
      "source": "Create a decision tree classifier object then  create a  <code>GridSearchCV</code> object  <code>tree_cv</code> with cv = 10.  Fit the object to find the best parameters from the dictionary <code>parameters</code>.\n",
      "metadata": {},
      "id": "1a136130-54e9-40d3-b775-758f69b30bf1"
    },
    {
      "cell_type": "code",
      "source": "parameters = {'criterion': ['gini', 'entropy'],\n     'splitter': ['best', 'random'],\n     'max_depth': [2*n for n in range(1,10)],\n     'max_features': ['auto', 'sqrt'],\n     'min_samples_leaf': [1, 2, 4],\n     'min_samples_split': [2, 5, 10]}\n\ntree = DecisionTreeClassifier()",
      "metadata": {
        "trusted": true
      },
      "execution_count": 24,
      "outputs": [],
      "id": "d85a7713-82bc-4857-9a18-56f2f425abcc"
    },
    {
      "cell_type": "code",
      "source": "tree_cv = GridSearchCV(estimator=tree, param_grid=parameters, cv=10, verbose=True)\ntree_cv.fit(X_train, y_train)",
      "metadata": {
        "trusted": true
      },
      "execution_count": 25,
      "outputs": [
        {
          "name": "stdout",
          "text": "Fitting 10 folds for each of 648 candidates, totalling 6480 fits\n",
          "output_type": "stream"
        },
        {
          "execution_count": 25,
          "output_type": "execute_result",
          "data": {
            "text/plain": "GridSearchCV(cv=10, estimator=DecisionTreeClassifier(),\n             param_grid={'criterion': ['gini', 'entropy'],\n                         'max_depth': [2, 4, 6, 8, 10, 12, 14, 16, 18],\n                         'max_features': ['auto', 'sqrt'],\n                         'min_samples_leaf': [1, 2, 4],\n                         'min_samples_split': [2, 5, 10],\n                         'splitter': ['best', 'random']},\n             verbose=True)"
          },
          "metadata": {}
        }
      ],
      "id": "966e2a3f-d15a-4940-99cf-e9b3bc1b7df4"
    },
    {
      "cell_type": "code",
      "source": "print(\"tuned hpyerparameters :(best parameters) \",tree_cv.best_params_)\nprint(\"accuracy :\",tree_cv.best_score_)",
      "metadata": {
        "trusted": true
      },
      "execution_count": 26,
      "outputs": [
        {
          "name": "stdout",
          "text": "tuned hpyerparameters :(best parameters)  {'criterion': 'entropy', 'max_depth': 8, 'max_features': 'sqrt', 'min_samples_leaf': 1, 'min_samples_split': 2, 'splitter': 'best'}\naccuracy : 0.8875\n",
          "output_type": "stream"
        }
      ],
      "id": "4c26b867-0f93-4713-bd7c-9bdef8dea18f"
    },
    {
      "cell_type": "markdown",
      "source": "## TASK  9\n",
      "metadata": {},
      "id": "1a845437-17f0-4bd4-8e9a-06f30ef827bf"
    },
    {
      "cell_type": "markdown",
      "source": "Calculate the accuracy of tree_cv on the test data using the method <code>score</code>:\n",
      "metadata": {},
      "id": "60d92686-3013-45bf-9983-9bd33aa530f2"
    },
    {
      "cell_type": "code",
      "source": "accu_tree = tree_cv.score(X_test, y_test)\naccuracy_dict['tree'] = accu_tree\naccuracy_dict",
      "metadata": {
        "trusted": true
      },
      "execution_count": 27,
      "outputs": [
        {
          "execution_count": 27,
          "output_type": "execute_result",
          "data": {
            "text/plain": "{'logistic': 0.8333333333333334,\n 'svm': 0.8333333333333334,\n 'tree': 0.7777777777777778}"
          },
          "metadata": {}
        }
      ],
      "id": "55003514-94f0-459a-a6eb-093f1c5f9f05"
    },
    {
      "cell_type": "markdown",
      "source": "We can plot the confusion matrix\n",
      "metadata": {},
      "id": "78fb6d64-6239-4783-8974-23606d5754c0"
    },
    {
      "cell_type": "code",
      "source": "yhat = svm_cv.predict(X_test)\nplot_confusion_matrix(y_test,yhat)",
      "metadata": {
        "trusted": true
      },
      "execution_count": 28,
      "outputs": [
        {
          "output_type": "display_data",
          "data": {
            "text/plain": "<pyolite.display.Image at 0x5e5d258>",
            "image/png": "[encoded data removed]"
          },
          "metadata": {}
        }
      ],
      "id": "c15ce013-6b4c-4723-9b04-7e60f23f6448"
    },
    {
      "cell_type": "code",
      "source": "print(classification_report(y_pred=yhat, y_true=y_test))",
      "metadata": {
        "trusted": true
      },
      "execution_count": 29,
      "outputs": [
        {
          "name": "stdout",
          "text": "              precision    recall  f1-score   support\n\n           0       1.00      0.50      0.67         6\n           1       0.80      1.00      0.89        12\n\n    accuracy                           0.83        18\n   macro avg       0.90      0.75      0.78        18\nweighted avg       0.87      0.83      0.81        18\n\n",
          "output_type": "stream"
        }
      ],
      "id": "3007d78d-58ac-4d70-aac0-de5323fc4d3c"
    },
    {
      "cell_type": "markdown",
      "source": "## TASK  10\n",
      "metadata": {},
      "id": "612dbb58-fb2f-47ee-a7bb-d77a00e6dbd3"
    },
    {
      "cell_type": "markdown",
      "source": "Create a k nearest neighbors object then  create a  <code>GridSearchCV</code> object  <code>knn_cv</code> with cv = 10.  Fit the object to find the best parameters from the dictionary <code>parameters</code>.\n",
      "metadata": {},
      "id": "a748cd07-5a39-4cda-809d-3cea906bd148"
    },
    {
      "cell_type": "code",
      "source": "parameters = {'n_neighbors': [1, 2, 3, 4, 5, 6, 7, 8, 9, 10],\n              'algorithm': ['auto', 'ball_tree', 'kd_tree', 'brute'],\n              'p': [1,2]}\n\nKNN = KNeighborsClassifier()",
      "metadata": {
        "trusted": true
      },
      "execution_count": 30,
      "outputs": [],
      "id": "0cee22b2-bcf7-471e-96cf-e63302a47b52"
    },
    {
      "cell_type": "code",
      "source": "knn_cv = GridSearchCV(estimator=KNN, param_grid=parameters, cv=10, verbose=True)\nknn_cv.fit(X_test, y_test)",
      "metadata": {
        "trusted": true
      },
      "execution_count": 31,
      "outputs": [
        {
          "name": "stdout",
          "text": "Fitting 10 folds for each of 80 candidates, totalling 800 fits\n",
          "output_type": "stream"
        },
        {
          "name": "stderr",
          "text": "/lib/python3.10/site-packages/sklearn/model_selection/_split.py:676: UserWarning: The least populated class in y has only 6 members, which is less than n_splits=10.\n  warnings.warn(\n",
          "output_type": "stream"
        },
        {
          "execution_count": 31,
          "output_type": "execute_result",
          "data": {
            "text/plain": "GridSearchCV(cv=10, estimator=KNeighborsClassifier(),\n             param_grid={'algorithm': ['auto', 'ball_tree', 'kd_tree', 'brute'],\n                         'n_neighbors': [1, 2, 3, 4, 5, 6, 7, 8, 9, 10],\n                         'p': [1, 2]},\n             verbose=True)"
          },
          "metadata": {}
        }
      ],
      "id": "ffbaf94b-0b03-4094-84b6-f5233194434c"
    },
    {
      "cell_type": "code",
      "source": "print(\"tuned hpyerparameters :(best parameters) \",knn_cv.best_params_)\nprint(\"accuracy :\",knn_cv.best_score_)",
      "metadata": {
        "trusted": true
      },
      "execution_count": 32,
      "outputs": [
        {
          "name": "stdout",
          "text": "tuned hpyerparameters :(best parameters)  {'algorithm': 'auto', 'n_neighbors': 1, 'p': 1}\naccuracy : 0.9\n",
          "output_type": "stream"
        }
      ],
      "id": "6309852d-7fb4-400f-b44a-1a3a04f03fba"
    },
    {
      "cell_type": "markdown",
      "source": "## TASK  11\n",
      "metadata": {},
      "id": "98e9e899-25da-4c9b-99eb-b680c559ebda"
    },
    {
      "cell_type": "markdown",
      "source": "Calculate the accuracy of knn_cv on the test data using the method <code>score</code>:\n",
      "metadata": {},
      "id": "9a20e83b-5c1b-440d-bba3-57c44a8605a6"
    },
    {
      "cell_type": "code",
      "source": "accu_knn = knn_cv.score(X_test, y_test)\naccuracy_dict['knn'] = accu_knn\naccuracy_dict",
      "metadata": {
        "trusted": true
      },
      "execution_count": 33,
      "outputs": [
        {
          "execution_count": 33,
          "output_type": "execute_result",
          "data": {
            "text/plain": "{'logistic': 0.8333333333333334,\n 'svm': 0.8333333333333334,\n 'tree': 0.7777777777777778,\n 'knn': 1.0}"
          },
          "metadata": {}
        }
      ],
      "id": "89196934-71d7-408d-9ff2-e99a934fb7de"
    },
    {
      "cell_type": "markdown",
      "source": "We can plot the confusion matrix\n",
      "metadata": {},
      "id": "a6cafe12-0a65-4cdc-8e44-67892989248e"
    },
    {
      "cell_type": "code",
      "source": "yhat = knn_cv.predict(X_test)\nplot_confusion_matrix(y_test,yhat)",
      "metadata": {
        "trusted": true
      },
      "execution_count": 34,
      "outputs": [
        {
          "output_type": "display_data",
          "data": {
            "text/plain": "<pyolite.display.Image at 0x5d43a68>",
            "image/png": "[encoded data removed]"
          },
          "metadata": {}
        }
      ],
      "id": "7b021ac7-870a-445b-9459-021c9e78f745"
    },
    {
      "cell_type": "markdown",
      "source": "## TASK  12\n",
      "metadata": {},
      "id": "3a98ab95-6763-4bcc-ae98-d76fc1c0812b"
    },
    {
      "cell_type": "markdown",
      "source": "Find the method performs best:\n",
      "metadata": {},
      "id": "965a2d1d-7ac3-458c-ba11-10f97d22e927"
    },
    {
      "cell_type": "code",
      "source": "accuracy_dict",
      "metadata": {
        "trusted": true
      },
      "execution_count": 35,
      "outputs": [
        {
          "execution_count": 35,
          "output_type": "execute_result",
          "data": {
            "text/plain": "{'logistic': 0.8333333333333334,\n 'svm': 0.8333333333333334,\n 'tree': 0.7777777777777778,\n 'knn': 1.0}"
          },
          "metadata": {}
        }
      ],
      "id": "c6f9679b-3b9c-429f-8fb8-4c8c4377c79d"
    },
    {
      "cell_type": "code",
      "source": "#print(f'Model with best fit is: {max(accuracy_dict, key=accuracy_dict.get)}')\naccuracy_df = pd.DataFrame(accuracy_dict.items(), columns=['model', 'accuracy'])\naccuracy_df\nax = sns.barplot(x='model', y='accuracy', data=accuracy_df)\nax.bar_label(ax.containers[0])\nax.set_xlabel('Models'); ax.set_ylabel('Accuracy score')\nax.set_title(\"Classification prediction of Falcon 9's landing success\")\nplt.show()",
      "metadata": {
        "trusted": true
      },
      "execution_count": 36,
      "outputs": [
        {
          "output_type": "display_data",
          "data": {
            "text/plain": "<pyolite.display.Image at 0x5c869b0>",
            "image/png": "[encoded data removed]"
          },
          "metadata": {}
        }
      ],
      "id": "7e2da33c-70ca-46ae-98a7-9ed8cdb4dabe"
    },
    {
      "cell_type": "markdown",
      "source": "## Authors\n",
      "metadata": {},
      "id": "2388a641-817f-4e15-815a-f66278c656b0"
    },
    {
      "cell_type": "markdown",
      "source": "[Pratiksha Verma](https://www.linkedin.com/in/pratiksha-verma-6487561b1/?utm_medium=Exinfluencer&utm_source=Exinfluencer&utm_content=000026UJ&utm_term=10006555&utm_id=NA-SkillsNetwork-Channel-SkillsNetworkCoursesIBMDS0321ENSkillsNetwork865-2022-01-01)\n",
      "metadata": {},
      "id": "8845aea5-d412-4eac-9b51-3457f0be2c0f"
    },
    {
      "cell_type": "markdown",
      "source": "## Change Log\n",
      "metadata": {},
      "id": "02bdba00-e939-4425-b819-417baeb84f8c"
    },
    {
      "cell_type": "markdown",
      "source": "| Date (YYYY-MM-DD) | Version | Changed By      | Change Description      |\n| ----------------- | ------- | -------------   | ----------------------- |\n| 2022-11-09        | 1.0     | Pratiksha Verma | Converted initial version to Jupyterlite|\n",
      "metadata": {},
      "id": "91fce393-48e3-493a-a228-9d58989c4766"
    },
    {
      "cell_type": "markdown",
      "source": "### <h3 align=\"center\"> IBM Corporation 2022. All rights reserved. <h3/>\n",
      "metadata": {},
      "id": "73d1479f-e16f-449f-a5fe-ef1d4e367a1a"
    }
  ]
}